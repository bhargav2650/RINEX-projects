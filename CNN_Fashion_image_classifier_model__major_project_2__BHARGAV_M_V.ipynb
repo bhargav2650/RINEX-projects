{
  "nbformat": 4,
  "nbformat_minor": 0,
  "metadata": {
    "colab": {
      "name": "CNN Fashion image classifier model__major project-2__BHARGAV M V.ipynb",
      "provenance": [],
      "collapsed_sections": []
    },
    "kernelspec": {
      "name": "python3",
      "display_name": "Python 3"
    },
    "language_info": {
      "name": "python"
    }
  },
  "cells": [
    {
      "cell_type": "code",
      "execution_count": null,
      "metadata": {
        "id": "JRJOdUhJ1-b7",
        "colab": {
          "base_uri": "https://localhost:8080/"
        },
        "outputId": "5a41fdcd-fb71-4c94-b68c-a99210071c17"
      },
      "outputs": [
        {
          "output_type": "stream",
          "name": "stdout",
          "text": [
            "Downloading data from https://storage.googleapis.com/tensorflow/tf-keras-datasets/train-labels-idx1-ubyte.gz\n",
            "32768/29515 [=================================] - 0s 0us/step\n",
            "40960/29515 [=========================================] - 0s 0us/step\n",
            "Downloading data from https://storage.googleapis.com/tensorflow/tf-keras-datasets/train-images-idx3-ubyte.gz\n",
            "26427392/26421880 [==============================] - 0s 0us/step\n",
            "26435584/26421880 [==============================] - 0s 0us/step\n",
            "Downloading data from https://storage.googleapis.com/tensorflow/tf-keras-datasets/t10k-labels-idx1-ubyte.gz\n",
            "16384/5148 [===============================================================================================] - 0s 0us/step\n",
            "Downloading data from https://storage.googleapis.com/tensorflow/tf-keras-datasets/t10k-images-idx3-ubyte.gz\n",
            "4423680/4422102 [==============================] - 0s 0us/step\n",
            "4431872/4422102 [==============================] - 0s 0us/step\n"
          ]
        }
      ],
      "source": [
        "import tensorflow as tf\n",
        "import matplotlib.pyplot as plt\n",
        "from tensorflow import keras\n",
        "import numpy as np\n",
        "(xtrain,ytrain),(xtest,ytest)=tf.keras.datasets.fashion_mnist.load_data()"
      ]
    },
    {
      "cell_type": "code",
      "source": [
        "xtrain.shape"
      ],
      "metadata": {
        "colab": {
          "base_uri": "https://localhost:8080/"
        },
        "id": "Q4jyfrdhfB0w",
        "outputId": "fb84c34d-0563-41ce-bb04-c75c633d7e5f"
      },
      "execution_count": null,
      "outputs": [
        {
          "output_type": "execute_result",
          "data": {
            "text/plain": [
              "(60000, 28, 28)"
            ]
          },
          "metadata": {},
          "execution_count": 2
        }
      ]
    },
    {
      "cell_type": "code",
      "source": [
        "xtrain=xtrain/255\n",
        "xtest=xtest/255"
      ],
      "metadata": {
        "id": "c40WP_-xioKx"
      },
      "execution_count": null,
      "outputs": []
    },
    {
      "cell_type": "code",
      "source": [
        "ytrain[0]"
      ],
      "metadata": {
        "colab": {
          "base_uri": "https://localhost:8080/"
        },
        "id": "1vN07iNVfrZY",
        "outputId": "57483f02-c589-471e-9f10-36458aefdc9b"
      },
      "execution_count": null,
      "outputs": [
        {
          "output_type": "execute_result",
          "data": {
            "text/plain": [
              "9"
            ]
          },
          "metadata": {},
          "execution_count": 4
        }
      ]
    },
    {
      "cell_type": "code",
      "source": [
        "ytrain[:-1]"
      ],
      "metadata": {
        "colab": {
          "base_uri": "https://localhost:8080/"
        },
        "id": "La9MasAtgJyw",
        "outputId": "28d79319-49f5-44d7-8ed3-e0bc1fc7e0b9"
      },
      "execution_count": null,
      "outputs": [
        {
          "output_type": "execute_result",
          "data": {
            "text/plain": [
              "array([9, 0, 0, ..., 1, 3, 0], dtype=uint8)"
            ]
          },
          "metadata": {},
          "execution_count": 5
        }
      ]
    },
    {
      "cell_type": "code",
      "source": [
        "# cnn\n",
        "xtrain.shape"
      ],
      "metadata": {
        "colab": {
          "base_uri": "https://localhost:8080/"
        },
        "id": "99bGL-yPkwjF",
        "outputId": "61547be6-a8b9-444c-b0a3-a0d4ebe7287c"
      },
      "execution_count": null,
      "outputs": [
        {
          "output_type": "execute_result",
          "data": {
            "text/plain": [
              "(60000, 28, 28)"
            ]
          },
          "metadata": {},
          "execution_count": 6
        }
      ]
    },
    {
      "cell_type": "code",
      "source": [
        "ytrain"
      ],
      "metadata": {
        "id": "fGjJMhw80r9Y",
        "colab": {
          "base_uri": "https://localhost:8080/"
        },
        "outputId": "c7fe72bf-36a0-4c2e-96b9-f9d307a08672"
      },
      "execution_count": null,
      "outputs": [
        {
          "output_type": "execute_result",
          "data": {
            "text/plain": [
              "array([9, 0, 0, ..., 3, 0, 5], dtype=uint8)"
            ]
          },
          "metadata": {},
          "execution_count": 7
        }
      ]
    },
    {
      "cell_type": "code",
      "source": [
        "cnn = keras.models.Sequential([\n",
        "    keras.layers.Conv2D(filters=28, kernel_size=(3, 3), activation='relu', input_shape=(28,28,1),),\n",
        "    keras.layers.MaxPooling2D((2, 2)),\n",
        "    keras.layers.Conv2D(filters=56, kernel_size=(3, 3), activation='relu'),\n",
        "    keras.layers.MaxPooling2D((2, 2)),\n",
        "    keras.layers.Flatten(),\n",
        "    keras.layers.Dense(56, activation='relu'),\n",
        "    keras.layers.Dense(10, activation='softmax')\n",
        "])\n",
        "cnn.compile(optimizer='adam',\n",
        "              loss='sparse_categorical_crossentropy',\n",
        "              metrics=['accuracy'])\n",
        "cnn.fit(xtrain, ytrain, epochs=10)"
      ],
      "metadata": {
        "colab": {
          "base_uri": "https://localhost:8080/"
        },
        "id": "NanCKNzucfJV",
        "outputId": "c8362b6f-22d1-4989-a89b-399613eb9ac3"
      },
      "execution_count": null,
      "outputs": [
        {
          "output_type": "stream",
          "name": "stdout",
          "text": [
            "Epoch 1/10\n",
            "1875/1875 [==============================] - 52s 27ms/step - loss: 0.4812 - accuracy: 0.8270\n",
            "Epoch 2/10\n",
            "1875/1875 [==============================] - 51s 27ms/step - loss: 0.3302 - accuracy: 0.8810\n",
            "Epoch 3/10\n",
            "1875/1875 [==============================] - 51s 27ms/step - loss: 0.2838 - accuracy: 0.8970\n",
            "Epoch 4/10\n",
            "1875/1875 [==============================] - 50s 27ms/step - loss: 0.2524 - accuracy: 0.9078\n",
            "Epoch 5/10\n",
            "1875/1875 [==============================] - 51s 27ms/step - loss: 0.2300 - accuracy: 0.9150\n",
            "Epoch 6/10\n",
            "1875/1875 [==============================] - 50s 27ms/step - loss: 0.2091 - accuracy: 0.9227\n",
            "Epoch 7/10\n",
            "1875/1875 [==============================] - 50s 27ms/step - loss: 0.1922 - accuracy: 0.9282\n",
            "Epoch 8/10\n",
            "1875/1875 [==============================] - 50s 27ms/step - loss: 0.1772 - accuracy: 0.9335\n",
            "Epoch 9/10\n",
            "1875/1875 [==============================] - 51s 27ms/step - loss: 0.1616 - accuracy: 0.9384\n",
            "Epoch 10/10\n",
            "1875/1875 [==============================] - 51s 27ms/step - loss: 0.1499 - accuracy: 0.9437\n"
          ]
        },
        {
          "output_type": "execute_result",
          "data": {
            "text/plain": [
              "<keras.callbacks.History at 0x7f9a046e8750>"
            ]
          },
          "metadata": {},
          "execution_count": 8
        }
      ]
    },
    {
      "cell_type": "code",
      "source": [
        "cnn.evaluate(xtest,ytest)"
      ],
      "metadata": {
        "colab": {
          "base_uri": "https://localhost:8080/"
        },
        "id": "IbmYf8LMd5EX",
        "outputId": "c9c317e3-5a5d-4e2c-c27b-bdee85f87ff7"
      },
      "execution_count": null,
      "outputs": [
        {
          "output_type": "stream",
          "name": "stdout",
          "text": [
            "313/313 [==============================] - 3s 9ms/step - loss: 0.2732 - accuracy: 0.9072\n"
          ]
        },
        {
          "output_type": "execute_result",
          "data": {
            "text/plain": [
              "[0.2732444405555725, 0.9071999788284302]"
            ]
          },
          "metadata": {},
          "execution_count": 9
        }
      ]
    },
    {
      "cell_type": "code",
      "source": [
        "ypred=cnn.predict(xtest)\n",
        "ypred"
      ],
      "metadata": {
        "colab": {
          "base_uri": "https://localhost:8080/"
        },
        "id": "aSurgEBsivwI",
        "outputId": "af10e46f-f4fc-456d-9e45-5a34a72a5617"
      },
      "execution_count": null,
      "outputs": [
        {
          "output_type": "execute_result",
          "data": {
            "text/plain": [
              "array([[6.99746872e-10, 1.82591761e-10, 4.46884757e-14, ...,\n",
              "        6.91792229e-05, 5.46657475e-09, 9.99878645e-01],\n",
              "       [9.36875585e-06, 1.58235125e-16, 9.93968606e-01, ...,\n",
              "        2.28464681e-13, 1.18568775e-11, 4.64646099e-09],\n",
              "       [1.83825403e-11, 1.00000000e+00, 4.64250527e-10, ...,\n",
              "        1.89630467e-24, 1.19574368e-11, 3.41235950e-18],\n",
              "       ...,\n",
              "       [3.63776920e-08, 8.72188155e-11, 1.47882657e-08, ...,\n",
              "        3.07505271e-11, 9.99998569e-01, 6.52885038e-11],\n",
              "       [3.04642001e-09, 1.00000000e+00, 3.95920768e-10, ...,\n",
              "        5.91339219e-19, 1.44944987e-10, 1.03198063e-13],\n",
              "       [1.47042010e-05, 7.86090311e-07, 3.41387677e-05, ...,\n",
              "        1.46385565e-01, 1.54456168e-01, 1.40783814e-04]], dtype=float32)"
            ]
          },
          "metadata": {},
          "execution_count": 10
        }
      ]
    },
    {
      "cell_type": "code",
      "source": [
        "np.argmax(ypred[0])"
      ],
      "metadata": {
        "colab": {
          "base_uri": "https://localhost:8080/"
        },
        "id": "Myrd2e4hjMrN",
        "outputId": "ceecb110-7bbe-4cd1-8640-87dd3a1e61ff"
      },
      "execution_count": null,
      "outputs": [
        {
          "output_type": "execute_result",
          "data": {
            "text/plain": [
              "9"
            ]
          },
          "metadata": {},
          "execution_count": 11
        }
      ]
    },
    {
      "cell_type": "code",
      "source": [
        "ytest[0]"
      ],
      "metadata": {
        "colab": {
          "base_uri": "https://localhost:8080/"
        },
        "id": "xYcIhIa3jaxV",
        "outputId": "987d6329-f5e4-41dc-f8bd-e63a4a859f08"
      },
      "execution_count": null,
      "outputs": [
        {
          "output_type": "execute_result",
          "data": {
            "text/plain": [
              "9"
            ]
          },
          "metadata": {},
          "execution_count": 12
        }
      ]
    },
    {
      "cell_type": "code",
      "source": [
        "y=[]\n",
        "for i in ypred:\n",
        "  y.append(np.argmax(i))"
      ],
      "metadata": {
        "id": "BpQrhsTSkUl7"
      },
      "execution_count": null,
      "outputs": []
    },
    {
      "cell_type": "code",
      "source": [
        "from sklearn.metrics import classification_report\n",
        "print('Classification report: \\n',classification_report(ytest,y))"
      ],
      "metadata": {
        "colab": {
          "base_uri": "https://localhost:8080/"
        },
        "id": "vmf_2OhblFs4",
        "outputId": "1a21a67a-3244-424c-a311-790b28983561"
      },
      "execution_count": null,
      "outputs": [
        {
          "output_type": "stream",
          "name": "stdout",
          "text": [
            "Classification report: \n",
            "               precision    recall  f1-score   support\n",
            "\n",
            "           0       0.87      0.81      0.84      1000\n",
            "           1       0.99      0.97      0.98      1000\n",
            "           2       0.88      0.84      0.86      1000\n",
            "           3       0.90      0.92      0.91      1000\n",
            "           4       0.87      0.85      0.86      1000\n",
            "           5       0.98      0.98      0.98      1000\n",
            "           6       0.69      0.79      0.74      1000\n",
            "           7       0.95      0.98      0.96      1000\n",
            "           8       0.98      0.98      0.98      1000\n",
            "           9       0.98      0.96      0.97      1000\n",
            "\n",
            "    accuracy                           0.91     10000\n",
            "   macro avg       0.91      0.91      0.91     10000\n",
            "weighted avg       0.91      0.91      0.91     10000\n",
            "\n"
          ]
        }
      ]
    },
    {
      "cell_type": "code",
      "source": [
        ""
      ],
      "metadata": {
        "id": "hqY6N5H7UJjq"
      },
      "execution_count": null,
      "outputs": []
    }
  ]
}